{
 "cells": [
  {
   "cell_type": "markdown",
   "id": "d47b8475-2979-47f2-8934-62027dcc5602",
   "metadata": {},
   "source": [
    "Title:"
   ]
  },
  {
   "cell_type": "markdown",
   "id": "bca32b45-7e69-45fe-98b1-1bc6bb9964ae",
   "metadata": {},
   "source": [
    "Introduction:\n",
    "- background information\n",
    "- state the question\n",
    "- identify and describe the dataset"
   ]
  },
  {
   "cell_type": "markdown",
   "id": "ac56ff4f-efac-45ab-8d3e-68e9e5ac1cbb",
   "metadata": {},
   "source": [
    "Preliminary exploratory data analysis:\n",
    "- read from the web into R \n",
    "- Clean and wrangle your data"
   ]
  },
  {
   "cell_type": "code",
   "execution_count": 1,
   "id": "30b6019d-aed9-4d63-8fa1-ca1bcaeb967c",
   "metadata": {},
   "outputs": [
    {
     "name": "stderr",
     "output_type": "stream",
     "text": [
      "── \u001b[1mAttaching packages\u001b[22m ─────────────────────────────────────── tidyverse 1.3.1 ──\n",
      "\n",
      "\u001b[32m✔\u001b[39m \u001b[34mggplot2\u001b[39m 3.3.6     \u001b[32m✔\u001b[39m \u001b[34mpurrr  \u001b[39m 0.3.4\n",
      "\u001b[32m✔\u001b[39m \u001b[34mtibble \u001b[39m 3.1.7     \u001b[32m✔\u001b[39m \u001b[34mdplyr  \u001b[39m 1.0.9\n",
      "\u001b[32m✔\u001b[39m \u001b[34mtidyr  \u001b[39m 1.2.0     \u001b[32m✔\u001b[39m \u001b[34mstringr\u001b[39m 1.4.0\n",
      "\u001b[32m✔\u001b[39m \u001b[34mreadr  \u001b[39m 2.1.2     \u001b[32m✔\u001b[39m \u001b[34mforcats\u001b[39m 0.5.1\n",
      "\n",
      "── \u001b[1mConflicts\u001b[22m ────────────────────────────────────────── tidyverse_conflicts() ──\n",
      "\u001b[31m✖\u001b[39m \u001b[34mdplyr\u001b[39m::\u001b[32mfilter()\u001b[39m masks \u001b[34mstats\u001b[39m::filter()\n",
      "\u001b[31m✖\u001b[39m \u001b[34mdplyr\u001b[39m::\u001b[32mlag()\u001b[39m    masks \u001b[34mstats\u001b[39m::lag()\n",
      "\n",
      "── \u001b[1mAttaching packages\u001b[22m ────────────────────────────────────── tidymodels 1.0.0 ──\n",
      "\n",
      "\u001b[32m✔\u001b[39m \u001b[34mbroom       \u001b[39m 1.0.0     \u001b[32m✔\u001b[39m \u001b[34mrsample     \u001b[39m 1.0.0\n",
      "\u001b[32m✔\u001b[39m \u001b[34mdials       \u001b[39m 1.0.0     \u001b[32m✔\u001b[39m \u001b[34mtune        \u001b[39m 1.0.0\n",
      "\u001b[32m✔\u001b[39m \u001b[34minfer       \u001b[39m 1.0.2     \u001b[32m✔\u001b[39m \u001b[34mworkflows   \u001b[39m 1.0.0\n",
      "\u001b[32m✔\u001b[39m \u001b[34mmodeldata   \u001b[39m 1.0.0     \u001b[32m✔\u001b[39m \u001b[34mworkflowsets\u001b[39m 1.0.0\n",
      "\u001b[32m✔\u001b[39m \u001b[34mparsnip     \u001b[39m 1.0.0     \u001b[32m✔\u001b[39m \u001b[34myardstick   \u001b[39m 1.0.0\n",
      "\u001b[32m✔\u001b[39m \u001b[34mrecipes     \u001b[39m 1.0.1     \n",
      "\n",
      "── \u001b[1mConflicts\u001b[22m ───────────────────────────────────────── tidymodels_conflicts() ──\n",
      "\u001b[31m✖\u001b[39m \u001b[34mscales\u001b[39m::\u001b[32mdiscard()\u001b[39m masks \u001b[34mpurrr\u001b[39m::discard()\n",
      "\u001b[31m✖\u001b[39m \u001b[34mdplyr\u001b[39m::\u001b[32mfilter()\u001b[39m   masks \u001b[34mstats\u001b[39m::filter()\n",
      "\u001b[31m✖\u001b[39m \u001b[34mrecipes\u001b[39m::\u001b[32mfixed()\u001b[39m  masks \u001b[34mstringr\u001b[39m::fixed()\n",
      "\u001b[31m✖\u001b[39m \u001b[34mdplyr\u001b[39m::\u001b[32mlag()\u001b[39m      masks \u001b[34mstats\u001b[39m::lag()\n",
      "\u001b[31m✖\u001b[39m \u001b[34myardstick\u001b[39m::\u001b[32mspec()\u001b[39m masks \u001b[34mreadr\u001b[39m::spec()\n",
      "\u001b[31m✖\u001b[39m \u001b[34mrecipes\u001b[39m::\u001b[32mstep()\u001b[39m   masks \u001b[34mstats\u001b[39m::step()\n",
      "\u001b[34m•\u001b[39m Search for functions across packages at \u001b[32mhttps://www.tidymodels.org/find/\u001b[39m\n",
      "\n",
      "Warning message in file(filename, \"r\", encoding = encoding):\n",
      "“cannot open file 'tests.R': No such file or directory”\n"
     ]
    },
    {
     "ename": "ERROR",
     "evalue": "Error in file(filename, \"r\", encoding = encoding): cannot open the connection\n",
     "output_type": "error",
     "traceback": [
      "Error in file(filename, \"r\", encoding = encoding): cannot open the connection\nTraceback:\n",
      "1. source(\"tests.R\")",
      "2. file(filename, \"r\", encoding = encoding)"
     ]
    }
   ],
   "source": [
    "library(tidyverse)\n",
    "library(repr)\n",
    "library(tidymodels)\n",
    "options(repr.matrix.max.rows = 6)\n",
    "source('tests.R')\n",
    "source('cleanup.R')"
   ]
  },
  {
   "cell_type": "code",
   "execution_count": 2,
   "id": "86454bf3-3802-46f9-b39c-f11e8e78b9d4",
   "metadata": {},
   "outputs": [
    {
     "name": "stderr",
     "output_type": "stream",
     "text": [
      "\u001b[1m\u001b[22mNew names:\n",
      "\u001b[36m•\u001b[39m `1` -> `1...2`\n",
      "\u001b[36m•\u001b[39m `1` -> `1...3`\n",
      "\u001b[36m•\u001b[39m `0` -> `0...5`\n",
      "\u001b[36m•\u001b[39m `?` -> `?...6`\n",
      "\u001b[36m•\u001b[39m `0` -> `0...7`\n",
      "\u001b[36m•\u001b[39m `0` -> `0...9`\n",
      "\u001b[36m•\u001b[39m `1` -> `1...11`\n",
      "\u001b[36m•\u001b[39m `?` -> `?...12`\n",
      "\u001b[36m•\u001b[39m `?` -> `?...13`\n",
      "\u001b[36m•\u001b[39m `1` -> `1...14`\n",
      "\u001b[1mRows: \u001b[22m\u001b[34m122\u001b[39m \u001b[1mColumns: \u001b[22m\u001b[34m14\u001b[39m\n",
      "\u001b[36m──\u001b[39m \u001b[1mColumn specification\u001b[22m \u001b[36m────────────────────────────────────────────────────────\u001b[39m\n",
      "\u001b[1mDelimiter:\u001b[22m \",\"\n",
      "\u001b[31mchr\u001b[39m (9): 95, ?...6, 0...7, 127, 0...9, .7, 1...11, ?...12, ?...13\n",
      "\u001b[32mdbl\u001b[39m (5): 32, 1...2, 1...3, 0...5, 1...14\n",
      "\n",
      "\u001b[36mℹ\u001b[39m Use `spec()` to retrieve the full column specification for this data.\n",
      "\u001b[36mℹ\u001b[39m Specify the column types or set `show_col_types = FALSE` to quiet this message.\n"
     ]
    },
    {
     "data": {
      "text/html": [
       "<table class=\"dataframe\">\n",
       "<caption>A spec_tbl_df: 122 × 14</caption>\n",
       "<thead>\n",
       "\t<tr><th scope=col>32</th><th scope=col>1...2</th><th scope=col>1...3</th><th scope=col>95</th><th scope=col>0...5</th><th scope=col>?...6</th><th scope=col>0...7</th><th scope=col>127</th><th scope=col>0...9</th><th scope=col>.7</th><th scope=col>1...11</th><th scope=col>?...12</th><th scope=col>?...13</th><th scope=col>1...14</th></tr>\n",
       "\t<tr><th scope=col>&lt;dbl&gt;</th><th scope=col>&lt;dbl&gt;</th><th scope=col>&lt;dbl&gt;</th><th scope=col>&lt;chr&gt;</th><th scope=col>&lt;dbl&gt;</th><th scope=col>&lt;chr&gt;</th><th scope=col>&lt;chr&gt;</th><th scope=col>&lt;chr&gt;</th><th scope=col>&lt;chr&gt;</th><th scope=col>&lt;chr&gt;</th><th scope=col>&lt;chr&gt;</th><th scope=col>&lt;chr&gt;</th><th scope=col>&lt;chr&gt;</th><th scope=col>&lt;dbl&gt;</th></tr>\n",
       "</thead>\n",
       "<tbody>\n",
       "\t<tr><td>34</td><td>1</td><td>4</td><td>115</td><td>0</td><td>?</td><td>?</td><td>154</td><td>0</td><td>.2</td><td>1</td><td>?</td><td>?</td><td>1</td></tr>\n",
       "\t<tr><td>35</td><td>1</td><td>4</td><td>?  </td><td>0</td><td>?</td><td>0</td><td>130</td><td>1</td><td>? </td><td>?</td><td>?</td><td>7</td><td>3</td></tr>\n",
       "\t<tr><td>36</td><td>1</td><td>4</td><td>110</td><td>0</td><td>?</td><td>0</td><td>125</td><td>1</td><td>1 </td><td>2</td><td>?</td><td>6</td><td>1</td></tr>\n",
       "\t<tr><td>⋮</td><td>⋮</td><td>⋮</td><td>⋮</td><td>⋮</td><td>⋮</td><td>⋮</td><td>⋮</td><td>⋮</td><td>⋮</td><td>⋮</td><td>⋮</td><td>⋮</td><td>⋮</td></tr>\n",
       "\t<tr><td>72</td><td>1</td><td>3</td><td>160</td><td>0</td><td>?</td><td>2</td><td>114</td><td>0</td><td>1.6</td><td>2</td><td>2</td><td>?</td><td>0</td></tr>\n",
       "\t<tr><td>73</td><td>0</td><td>3</td><td>160</td><td>0</td><td>0</td><td>1</td><td>121</td><td>0</td><td>0  </td><td>1</td><td>?</td><td>3</td><td>1</td></tr>\n",
       "\t<tr><td>74</td><td>1</td><td>2</td><td>145</td><td>0</td><td>?</td><td>1</td><td>123</td><td>0</td><td>1.3</td><td>1</td><td>?</td><td>?</td><td>1</td></tr>\n",
       "</tbody>\n",
       "</table>\n"
      ],
      "text/latex": [
       "A spec\\_tbl\\_df: 122 × 14\n",
       "\\begin{tabular}{llllllllllllll}\n",
       " 32 & 1...2 & 1...3 & 95 & 0...5 & ?...6 & 0...7 & 127 & 0...9 & .7 & 1...11 & ?...12 & ?...13 & 1...14\\\\\n",
       " <dbl> & <dbl> & <dbl> & <chr> & <dbl> & <chr> & <chr> & <chr> & <chr> & <chr> & <chr> & <chr> & <chr> & <dbl>\\\\\n",
       "\\hline\n",
       "\t 34 & 1 & 4 & 115 & 0 & ? & ? & 154 & 0 & .2 & 1 & ? & ? & 1\\\\\n",
       "\t 35 & 1 & 4 & ?   & 0 & ? & 0 & 130 & 1 & ?  & ? & ? & 7 & 3\\\\\n",
       "\t 36 & 1 & 4 & 110 & 0 & ? & 0 & 125 & 1 & 1  & 2 & ? & 6 & 1\\\\\n",
       "\t ⋮ & ⋮ & ⋮ & ⋮ & ⋮ & ⋮ & ⋮ & ⋮ & ⋮ & ⋮ & ⋮ & ⋮ & ⋮ & ⋮\\\\\n",
       "\t 72 & 1 & 3 & 160 & 0 & ? & 2 & 114 & 0 & 1.6 & 2 & 2 & ? & 0\\\\\n",
       "\t 73 & 0 & 3 & 160 & 0 & 0 & 1 & 121 & 0 & 0   & 1 & ? & 3 & 1\\\\\n",
       "\t 74 & 1 & 2 & 145 & 0 & ? & 1 & 123 & 0 & 1.3 & 1 & ? & ? & 1\\\\\n",
       "\\end{tabular}\n"
      ],
      "text/markdown": [
       "\n",
       "A spec_tbl_df: 122 × 14\n",
       "\n",
       "| 32 &lt;dbl&gt; | 1...2 &lt;dbl&gt; | 1...3 &lt;dbl&gt; | 95 &lt;chr&gt; | 0...5 &lt;dbl&gt; | ?...6 &lt;chr&gt; | 0...7 &lt;chr&gt; | 127 &lt;chr&gt; | 0...9 &lt;chr&gt; | .7 &lt;chr&gt; | 1...11 &lt;chr&gt; | ?...12 &lt;chr&gt; | ?...13 &lt;chr&gt; | 1...14 &lt;dbl&gt; |\n",
       "|---|---|---|---|---|---|---|---|---|---|---|---|---|---|\n",
       "| 34 | 1 | 4 | 115 | 0 | ? | ? | 154 | 0 | .2 | 1 | ? | ? | 1 |\n",
       "| 35 | 1 | 4 | ?   | 0 | ? | 0 | 130 | 1 | ?  | ? | ? | 7 | 3 |\n",
       "| 36 | 1 | 4 | 110 | 0 | ? | 0 | 125 | 1 | 1  | 2 | ? | 6 | 1 |\n",
       "| ⋮ | ⋮ | ⋮ | ⋮ | ⋮ | ⋮ | ⋮ | ⋮ | ⋮ | ⋮ | ⋮ | ⋮ | ⋮ | ⋮ |\n",
       "| 72 | 1 | 3 | 160 | 0 | ? | 2 | 114 | 0 | 1.6 | 2 | 2 | ? | 0 |\n",
       "| 73 | 0 | 3 | 160 | 0 | 0 | 1 | 121 | 0 | 0   | 1 | ? | 3 | 1 |\n",
       "| 74 | 1 | 2 | 145 | 0 | ? | 1 | 123 | 0 | 1.3 | 1 | ? | ? | 1 |\n",
       "\n"
      ],
      "text/plain": [
       "    32 1...2 1...3 95  0...5 ?...6 0...7 127 0...9 .7  1...11 ?...12 ?...13\n",
       "1   34 1     4     115 0     ?     ?     154 0     .2  1      ?      ?     \n",
       "2   35 1     4     ?   0     ?     0     130 1     ?   ?      ?      7     \n",
       "3   36 1     4     110 0     ?     0     125 1     1   2      ?      6     \n",
       "⋮   ⋮  ⋮     ⋮     ⋮   ⋮     ⋮     ⋮     ⋮   ⋮     ⋮   ⋮      ⋮      ⋮     \n",
       "120 72 1     3     160 0     ?     2     114 0     1.6 2      2      ?     \n",
       "121 73 0     3     160 0     0     1     121 0     0   1      ?      3     \n",
       "122 74 1     2     145 0     ?     1     123 0     1.3 1      ?      ?     \n",
       "    1...14\n",
       "1   1     \n",
       "2   3     \n",
       "3   1     \n",
       "⋮   ⋮     \n",
       "120 0     \n",
       "121 1     \n",
       "122 1     "
      ]
     },
     "metadata": {},
     "output_type": "display_data"
    }
   ],
   "source": [
    "url_1 <- \"https://archive.ics.uci.edu/ml/machine-learning-databases/heart-disease/processed.switzerland.data\"\n",
    "switzerland_data <- read_csv(url_1)\n",
    "switzerland_data"
   ]
  },
  {
   "cell_type": "code",
   "execution_count": 3,
   "id": "77e3fc56-d986-42da-8125-eea36392cb9a",
   "metadata": {},
   "outputs": [
    {
     "name": "stderr",
     "output_type": "stream",
     "text": [
      "Warning message:\n",
      "“One or more parsing issues, see `problems()` for details”\n",
      "\u001b[1mRows: \u001b[22m\u001b[34m222\u001b[39m \u001b[1mColumns: \u001b[22m\u001b[34m1\u001b[39m\n",
      "\u001b[36m──\u001b[39m \u001b[1mColumn specification\u001b[22m \u001b[36m────────────────────────────────────────────────────────\u001b[39m\n",
      "\u001b[1mDelimiter:\u001b[22m \"\\t\"\n",
      "\u001b[31mchr\u001b[39m (1): Publication Request: \n",
      "\n",
      "\u001b[36mℹ\u001b[39m Use `spec()` to retrieve the full column specification for this data.\n",
      "\u001b[36mℹ\u001b[39m Specify the column types or set `show_col_types = FALSE` to quiet this message.\n"
     ]
    },
    {
     "data": {
      "text/html": [
       "<table class=\"dataframe\">\n",
       "<caption>A spec_tbl_df: 222 × 1</caption>\n",
       "<thead>\n",
       "\t<tr><th scope=col>Publication Request: </th></tr>\n",
       "\t<tr><th scope=col>&lt;chr&gt;</th></tr>\n",
       "</thead>\n",
       "<tbody>\n",
       "\t<tr><td><span style=white-space:pre-wrap>   &gt;&gt;&gt;&gt;&gt;&gt;&gt;&gt;&gt;&gt;&gt;&gt;&gt;&gt;&gt;&gt;&gt;&gt;&gt;&gt;&gt;&gt;&gt;&gt;&gt;&gt;&gt;&gt;&gt;&gt;&gt;&gt;&gt;&gt;&gt;&gt;&gt;&gt;&gt;&gt;&gt;&gt;&gt;&gt;&gt;&gt;&gt;&gt;&gt;&gt;&gt;&gt;&gt;&gt;&gt;&gt;&gt;&gt;&gt;&gt;&gt;&gt;&gt;&gt;&gt;&gt;&gt;&gt;&gt;&gt; </span></td></tr>\n",
       "\t<tr><td>   This file describes the contents of the heart-disease directory.       </td></tr>\n",
       "\t<tr><td>   This directory contains 4 databases concerning heart disease diagnosis.</td></tr>\n",
       "\t<tr><td>⋮</td></tr>\n",
       "\t<tr><td>          Hungarian: 188  37  26  28  15   294</td></tr>\n",
       "\t<tr><td>        Switzerland:   8  48  32  30   5   123</td></tr>\n",
       "\t<tr><td>      Long Beach VA:  51  56  41  42  10   200</td></tr>\n",
       "</tbody>\n",
       "</table>\n"
      ],
      "text/latex": [
       "A spec\\_tbl\\_df: 222 × 1\n",
       "\\begin{tabular}{l}\n",
       " Publication Request: \\\\\n",
       " <chr>\\\\\n",
       "\\hline\n",
       "\t    >>>>>>>>>>>>>>>>>>>>>>>>>>>>>>>>>>>>>>>>>>>>>>>>>>>>>>>>>>>>>>>>>>>>>> \\\\\n",
       "\t    This file describes the contents of the heart-disease directory.       \\\\\n",
       "\t    This directory contains 4 databases concerning heart disease diagnosis.\\\\\n",
       "\t ⋮\\\\\n",
       "\t           Hungarian: 188  37  26  28  15   294\\\\\n",
       "\t         Switzerland:   8  48  32  30   5   123\\\\\n",
       "\t       Long Beach VA:  51  56  41  42  10   200\\\\\n",
       "\\end{tabular}\n"
      ],
      "text/markdown": [
       "\n",
       "A spec_tbl_df: 222 × 1\n",
       "\n",
       "| Publication Request:  &lt;chr&gt; |\n",
       "|---|\n",
       "|    &gt;&gt;&gt;&gt;&gt;&gt;&gt;&gt;&gt;&gt;&gt;&gt;&gt;&gt;&gt;&gt;&gt;&gt;&gt;&gt;&gt;&gt;&gt;&gt;&gt;&gt;&gt;&gt;&gt;&gt;&gt;&gt;&gt;&gt;&gt;&gt;&gt;&gt;&gt;&gt;&gt;&gt;&gt;&gt;&gt;&gt;&gt;&gt;&gt;&gt;&gt;&gt;&gt;&gt;&gt;&gt;&gt;&gt;&gt;&gt;&gt;&gt;&gt;&gt;&gt;&gt;&gt;&gt;&gt;&gt;  |\n",
       "|    This file describes the contents of the heart-disease directory.        |\n",
       "|    This directory contains 4 databases concerning heart disease diagnosis. |\n",
       "| ⋮ |\n",
       "|           Hungarian: 188  37  26  28  15   294 |\n",
       "|         Switzerland:   8  48  32  30   5   123 |\n",
       "|       Long Beach VA:  51  56  41  42  10   200 |\n",
       "\n"
      ],
      "text/plain": [
       "    Publication Request:                                                      \n",
       "1      >>>>>>>>>>>>>>>>>>>>>>>>>>>>>>>>>>>>>>>>>>>>>>>>>>>>>>>>>>>>>>>>>>>>>> \n",
       "2      This file describes the contents of the heart-disease directory.       \n",
       "3      This directory contains 4 databases concerning heart disease diagnosis.\n",
       "⋮   ⋮                                                                         \n",
       "220           Hungarian: 188  37  26  28  15   294                            \n",
       "221         Switzerland:   8  48  32  30   5   123                            \n",
       "222       Long Beach VA:  51  56  41  42  10   200                            "
      ]
     },
     "metadata": {},
     "output_type": "display_data"
    }
   ],
   "source": [
    "url_2 <- \"https://archive.ics.uci.edu/ml/machine-learning-databases/heart-disease/heart-disease.names\"\n",
    "heart_disease_data <- read_delim(url_2, delim = \"\\t\")\n",
    "heart_disease_data"
   ]
  },
  {
   "cell_type": "code",
   "execution_count": 4,
   "id": "e02ed192-b2ad-4124-88e9-5cd72a0859de",
   "metadata": {},
   "outputs": [
    {
     "name": "stderr",
     "output_type": "stream",
     "text": [
      "\u001b[1mRows: \u001b[22m\u001b[34m1229\u001b[39m \u001b[1mColumns: \u001b[22m\u001b[34m1\u001b[39m\n",
      "\u001b[36m──\u001b[39m \u001b[1mColumn specification\u001b[22m \u001b[36m────────────────────────────────────────────────────────\u001b[39m\n",
      "\u001b[1mDelimiter:\u001b[22m \"\\t\"\n",
      "\u001b[31mchr\u001b[39m (1): 3001 0 65 1 1 1 1\n",
      "\n",
      "\u001b[36mℹ\u001b[39m Use `spec()` to retrieve the full column specification for this data.\n",
      "\u001b[36mℹ\u001b[39m Specify the column types or set `show_col_types = FALSE` to quiet this message.\n"
     ]
    },
    {
     "data": {
      "text/html": [
       "<table class=\"dataframe\">\n",
       "<caption>A spec_tbl_df: 1229 × 1</caption>\n",
       "<thead>\n",
       "\t<tr><th scope=col>3001 0 65 1 1 1 1</th></tr>\n",
       "\t<tr><th scope=col>&lt;chr&gt;</th></tr>\n",
       "</thead>\n",
       "<tbody>\n",
       "\t<tr><td>-9 4 115 0 0 -9 -9 -9</td></tr>\n",
       "\t<tr><td>0 -9 -9 0 1 9 85 0   </td></tr>\n",
       "\t<tr><td>1 1 0 1 12 8.3 -9 100</td></tr>\n",
       "\t<tr><td>⋮</td></tr>\n",
       "\t<tr><td>4 85 1 1 1 1 1 1</td></tr>\n",
       "\t<tr><td>1 1 1 2 1 1 1 1 </td></tr>\n",
       "\t<tr><td>1 1 70 -9. name </td></tr>\n",
       "</tbody>\n",
       "</table>\n"
      ],
      "text/latex": [
       "A spec\\_tbl\\_df: 1229 × 1\n",
       "\\begin{tabular}{l}\n",
       " 3001 0 65 1 1 1 1\\\\\n",
       " <chr>\\\\\n",
       "\\hline\n",
       "\t -9 4 115 0 0 -9 -9 -9\\\\\n",
       "\t 0 -9 -9 0 1 9 85 0   \\\\\n",
       "\t 1 1 0 1 12 8.3 -9 100\\\\\n",
       "\t ⋮\\\\\n",
       "\t 4 85 1 1 1 1 1 1\\\\\n",
       "\t 1 1 1 2 1 1 1 1 \\\\\n",
       "\t 1 1 70 -9. name \\\\\n",
       "\\end{tabular}\n"
      ],
      "text/markdown": [
       "\n",
       "A spec_tbl_df: 1229 × 1\n",
       "\n",
       "| 3001 0 65 1 1 1 1 &lt;chr&gt; |\n",
       "|---|\n",
       "| -9 4 115 0 0 -9 -9 -9 |\n",
       "| 0 -9 -9 0 1 9 85 0    |\n",
       "| 1 1 0 1 12 8.3 -9 100 |\n",
       "| ⋮ |\n",
       "| 4 85 1 1 1 1 1 1 |\n",
       "| 1 1 1 2 1 1 1 1  |\n",
       "| 1 1 70 -9. name  |\n",
       "\n"
      ],
      "text/plain": [
       "     3001 0 65 1 1 1 1    \n",
       "1    -9 4 115 0 0 -9 -9 -9\n",
       "2    0 -9 -9 0 1 9 85 0   \n",
       "3    1 1 0 1 12 8.3 -9 100\n",
       "⋮    ⋮                    \n",
       "1227 4 85 1 1 1 1 1 1     \n",
       "1228 1 1 1 2 1 1 1 1      \n",
       "1229 1 1 70 -9. name      "
      ]
     },
     "metadata": {},
     "output_type": "display_data"
    }
   ],
   "source": [
    "url_3 <- \"https://archive.ics.uci.edu/ml/machine-learning-databases/heart-disease/switzerland.data\"\n",
    "sw_data <- read_delim(url_3, delim = \"\\t\")\n",
    "sw_data"
   ]
  },
  {
   "cell_type": "markdown",
   "id": "b4b6f36c-6754-4d23-9329-90b9c73b99b4",
   "metadata": {},
   "source": [
    "Method:"
   ]
  },
  {
   "cell_type": "markdown",
   "id": "fa316864-7b51-4e48-95e0-615e13365046",
   "metadata": {},
   "source": [
    "Expected outcomes and significance:\n",
    "- expect to find\n",
    "- impact\n",
    "- future questions"
   ]
  }
 ],
 "metadata": {
  "kernelspec": {
   "display_name": "R",
   "language": "R",
   "name": "ir"
  },
  "language_info": {
   "codemirror_mode": "r",
   "file_extension": ".r",
   "mimetype": "text/x-r-source",
   "name": "R",
   "pygments_lexer": "r",
   "version": "4.1.3"
  }
 },
 "nbformat": 4,
 "nbformat_minor": 5
}
