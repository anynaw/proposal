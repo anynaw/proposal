{
 "cells": [
  {
   "cell_type": "markdown",
   "id": "b88a408c-3291-42b0-a617-0cf2f2370006",
   "metadata": {},
   "source": [
    "Title:"
   ]
  },
  {
   "cell_type": "markdown",
   "id": "c8a57cb7-5158-40c9-a3b7-7bb6d5f43b4a",
   "metadata": {},
   "source": [
    "Introduction:\n",
    "\n",
    "- background information\n",
    "- state the question\n",
    "- identify and describe the dataset"
   ]
  },
  {
   "cell_type": "markdown",
   "id": "cef469b1-0c3a-4c2e-b88d-b49bc6e5f2a7",
   "metadata": {},
   "source": [
    "Preliminary exploratory data analysis:\n",
    "- read from the web into R\n",
    "- Clean and wrangle your data"
   ]
  },
  {
   "cell_type": "code",
   "execution_count": 1,
   "id": "48d17b57-ca7d-4809-aa40-eff1a1ff536f",
   "metadata": {},
   "outputs": [
    {
     "name": "stderr",
     "output_type": "stream",
     "text": [
      "── \u001b[1mAttaching packages\u001b[22m ─────────────────────────────────────── tidyverse 1.3.1 ──\n",
      "\n",
      "\u001b[32m✔\u001b[39m \u001b[34mggplot2\u001b[39m 3.3.6     \u001b[32m✔\u001b[39m \u001b[34mpurrr  \u001b[39m 0.3.4\n",
      "\u001b[32m✔\u001b[39m \u001b[34mtibble \u001b[39m 3.1.7     \u001b[32m✔\u001b[39m \u001b[34mdplyr  \u001b[39m 1.0.9\n",
      "\u001b[32m✔\u001b[39m \u001b[34mtidyr  \u001b[39m 1.2.0     \u001b[32m✔\u001b[39m \u001b[34mstringr\u001b[39m 1.4.0\n",
      "\u001b[32m✔\u001b[39m \u001b[34mreadr  \u001b[39m 2.1.2     \u001b[32m✔\u001b[39m \u001b[34mforcats\u001b[39m 0.5.1\n",
      "\n",
      "── \u001b[1mConflicts\u001b[22m ────────────────────────────────────────── tidyverse_conflicts() ──\n",
      "\u001b[31m✖\u001b[39m \u001b[34mdplyr\u001b[39m::\u001b[32mfilter()\u001b[39m masks \u001b[34mstats\u001b[39m::filter()\n",
      "\u001b[31m✖\u001b[39m \u001b[34mdplyr\u001b[39m::\u001b[32mlag()\u001b[39m    masks \u001b[34mstats\u001b[39m::lag()\n",
      "\n",
      "── \u001b[1mAttaching packages\u001b[22m ────────────────────────────────────── tidymodels 1.0.0 ──\n",
      "\n",
      "\u001b[32m✔\u001b[39m \u001b[34mbroom       \u001b[39m 1.0.0     \u001b[32m✔\u001b[39m \u001b[34mrsample     \u001b[39m 1.0.0\n",
      "\u001b[32m✔\u001b[39m \u001b[34mdials       \u001b[39m 1.0.0     \u001b[32m✔\u001b[39m \u001b[34mtune        \u001b[39m 1.0.0\n",
      "\u001b[32m✔\u001b[39m \u001b[34minfer       \u001b[39m 1.0.2     \u001b[32m✔\u001b[39m \u001b[34mworkflows   \u001b[39m 1.0.0\n",
      "\u001b[32m✔\u001b[39m \u001b[34mmodeldata   \u001b[39m 1.0.0     \u001b[32m✔\u001b[39m \u001b[34mworkflowsets\u001b[39m 1.0.0\n",
      "\u001b[32m✔\u001b[39m \u001b[34mparsnip     \u001b[39m 1.0.0     \u001b[32m✔\u001b[39m \u001b[34myardstick   \u001b[39m 1.0.0\n",
      "\u001b[32m✔\u001b[39m \u001b[34mrecipes     \u001b[39m 1.0.1     \n",
      "\n",
      "── \u001b[1mConflicts\u001b[22m ───────────────────────────────────────── tidymodels_conflicts() ──\n",
      "\u001b[31m✖\u001b[39m \u001b[34mscales\u001b[39m::\u001b[32mdiscard()\u001b[39m masks \u001b[34mpurrr\u001b[39m::discard()\n",
      "\u001b[31m✖\u001b[39m \u001b[34mdplyr\u001b[39m::\u001b[32mfilter()\u001b[39m   masks \u001b[34mstats\u001b[39m::filter()\n",
      "\u001b[31m✖\u001b[39m \u001b[34mrecipes\u001b[39m::\u001b[32mfixed()\u001b[39m  masks \u001b[34mstringr\u001b[39m::fixed()\n",
      "\u001b[31m✖\u001b[39m \u001b[34mdplyr\u001b[39m::\u001b[32mlag()\u001b[39m      masks \u001b[34mstats\u001b[39m::lag()\n",
      "\u001b[31m✖\u001b[39m \u001b[34myardstick\u001b[39m::\u001b[32mspec()\u001b[39m masks \u001b[34mreadr\u001b[39m::spec()\n",
      "\u001b[31m✖\u001b[39m \u001b[34mrecipes\u001b[39m::\u001b[32mstep()\u001b[39m   masks \u001b[34mstats\u001b[39m::step()\n",
      "\u001b[34m•\u001b[39m Search for functions across packages at \u001b[32mhttps://www.tidymodels.org/find/\u001b[39m\n",
      "\n",
      "Warning message in file(filename, \"r\", encoding = encoding):\n",
      "“cannot open file 'tests.R': No such file or directory”\n"
     ]
    },
    {
     "ename": "ERROR",
     "evalue": "Error in file(filename, \"r\", encoding = encoding): cannot open the connection\n",
     "output_type": "error",
     "traceback": [
      "Error in file(filename, \"r\", encoding = encoding): cannot open the connection\nTraceback:\n",
      "1. source(\"tests.R\")",
      "2. file(filename, \"r\", encoding = encoding)"
     ]
    }
   ],
   "source": [
    "library(tidyverse)\n",
    "library(repr)\n",
    "library(tidymodels)\n",
    "options(repr.matrix.max.rows = 6)\n",
    "source('tests.R')\n",
    "source('cleanup.R')"
   ]
  },
  {
   "cell_type": "code",
   "execution_count": 2,
   "id": "490a581e-ec90-4eb6-b61f-1edbb5529ac9",
   "metadata": {},
   "outputs": [
    {
     "name": "stderr",
     "output_type": "stream",
     "text": [
      "\u001b[1m\u001b[22mNew names:\n",
      "\u001b[36m•\u001b[39m `1` -> `1...2`\n",
      "\u001b[36m•\u001b[39m `1` -> `1...3`\n",
      "\u001b[36m•\u001b[39m `0` -> `0...5`\n",
      "\u001b[36m•\u001b[39m `?` -> `?...6`\n",
      "\u001b[36m•\u001b[39m `0` -> `0...7`\n",
      "\u001b[36m•\u001b[39m `0` -> `0...9`\n",
      "\u001b[36m•\u001b[39m `1` -> `1...11`\n",
      "\u001b[36m•\u001b[39m `?` -> `?...12`\n",
      "\u001b[36m•\u001b[39m `?` -> `?...13`\n",
      "\u001b[36m•\u001b[39m `1` -> `1...14`\n",
      "\u001b[1mRows: \u001b[22m\u001b[34m122\u001b[39m \u001b[1mColumns: \u001b[22m\u001b[34m14\u001b[39m\n",
      "\u001b[36m──\u001b[39m \u001b[1mColumn specification\u001b[22m \u001b[36m────────────────────────────────────────────────────────\u001b[39m\n",
      "\u001b[1mDelimiter:\u001b[22m \",\"\n",
      "\u001b[31mchr\u001b[39m (9): 95, ?...6, 0...7, 127, 0...9, .7, 1...11, ?...12, ?...13\n",
      "\u001b[32mdbl\u001b[39m (5): 32, 1...2, 1...3, 0...5, 1...14\n",
      "\n",
      "\u001b[36mℹ\u001b[39m Use `spec()` to retrieve the full column specification for this data.\n",
      "\u001b[36mℹ\u001b[39m Specify the column types or set `show_col_types = FALSE` to quiet this message.\n"
     ]
    },
    {
     "data": {
      "text/html": [
       "<table class=\"dataframe\">\n",
       "<caption>A spec_tbl_df: 122 × 14</caption>\n",
       "<thead>\n",
       "\t<tr><th scope=col>32</th><th scope=col>1...2</th><th scope=col>1...3</th><th scope=col>95</th><th scope=col>0...5</th><th scope=col>?...6</th><th scope=col>0...7</th><th scope=col>127</th><th scope=col>0...9</th><th scope=col>.7</th><th scope=col>1...11</th><th scope=col>?...12</th><th scope=col>?...13</th><th scope=col>1...14</th></tr>\n",
       "\t<tr><th scope=col>&lt;dbl&gt;</th><th scope=col>&lt;dbl&gt;</th><th scope=col>&lt;dbl&gt;</th><th scope=col>&lt;chr&gt;</th><th scope=col>&lt;dbl&gt;</th><th scope=col>&lt;chr&gt;</th><th scope=col>&lt;chr&gt;</th><th scope=col>&lt;chr&gt;</th><th scope=col>&lt;chr&gt;</th><th scope=col>&lt;chr&gt;</th><th scope=col>&lt;chr&gt;</th><th scope=col>&lt;chr&gt;</th><th scope=col>&lt;chr&gt;</th><th scope=col>&lt;dbl&gt;</th></tr>\n",
       "</thead>\n",
       "<tbody>\n",
       "\t<tr><td>34</td><td>1</td><td>4</td><td>115</td><td>0</td><td>?</td><td>?</td><td>154</td><td>0</td><td>.2</td><td>1</td><td>?</td><td>?</td><td>1</td></tr>\n",
       "\t<tr><td>35</td><td>1</td><td>4</td><td>?  </td><td>0</td><td>?</td><td>0</td><td>130</td><td>1</td><td>? </td><td>?</td><td>?</td><td>7</td><td>3</td></tr>\n",
       "\t<tr><td>36</td><td>1</td><td>4</td><td>110</td><td>0</td><td>?</td><td>0</td><td>125</td><td>1</td><td>1 </td><td>2</td><td>?</td><td>6</td><td>1</td></tr>\n",
       "\t<tr><td>⋮</td><td>⋮</td><td>⋮</td><td>⋮</td><td>⋮</td><td>⋮</td><td>⋮</td><td>⋮</td><td>⋮</td><td>⋮</td><td>⋮</td><td>⋮</td><td>⋮</td><td>⋮</td></tr>\n",
       "\t<tr><td>72</td><td>1</td><td>3</td><td>160</td><td>0</td><td>?</td><td>2</td><td>114</td><td>0</td><td>1.6</td><td>2</td><td>2</td><td>?</td><td>0</td></tr>\n",
       "\t<tr><td>73</td><td>0</td><td>3</td><td>160</td><td>0</td><td>0</td><td>1</td><td>121</td><td>0</td><td>0  </td><td>1</td><td>?</td><td>3</td><td>1</td></tr>\n",
       "\t<tr><td>74</td><td>1</td><td>2</td><td>145</td><td>0</td><td>?</td><td>1</td><td>123</td><td>0</td><td>1.3</td><td>1</td><td>?</td><td>?</td><td>1</td></tr>\n",
       "</tbody>\n",
       "</table>\n"
      ],
      "text/latex": [
       "A spec\\_tbl\\_df: 122 × 14\n",
       "\\begin{tabular}{llllllllllllll}\n",
       " 32 & 1...2 & 1...3 & 95 & 0...5 & ?...6 & 0...7 & 127 & 0...9 & .7 & 1...11 & ?...12 & ?...13 & 1...14\\\\\n",
       " <dbl> & <dbl> & <dbl> & <chr> & <dbl> & <chr> & <chr> & <chr> & <chr> & <chr> & <chr> & <chr> & <chr> & <dbl>\\\\\n",
       "\\hline\n",
       "\t 34 & 1 & 4 & 115 & 0 & ? & ? & 154 & 0 & .2 & 1 & ? & ? & 1\\\\\n",
       "\t 35 & 1 & 4 & ?   & 0 & ? & 0 & 130 & 1 & ?  & ? & ? & 7 & 3\\\\\n",
       "\t 36 & 1 & 4 & 110 & 0 & ? & 0 & 125 & 1 & 1  & 2 & ? & 6 & 1\\\\\n",
       "\t ⋮ & ⋮ & ⋮ & ⋮ & ⋮ & ⋮ & ⋮ & ⋮ & ⋮ & ⋮ & ⋮ & ⋮ & ⋮ & ⋮\\\\\n",
       "\t 72 & 1 & 3 & 160 & 0 & ? & 2 & 114 & 0 & 1.6 & 2 & 2 & ? & 0\\\\\n",
       "\t 73 & 0 & 3 & 160 & 0 & 0 & 1 & 121 & 0 & 0   & 1 & ? & 3 & 1\\\\\n",
       "\t 74 & 1 & 2 & 145 & 0 & ? & 1 & 123 & 0 & 1.3 & 1 & ? & ? & 1\\\\\n",
       "\\end{tabular}\n"
      ],
      "text/markdown": [
       "\n",
       "A spec_tbl_df: 122 × 14\n",
       "\n",
       "| 32 &lt;dbl&gt; | 1...2 &lt;dbl&gt; | 1...3 &lt;dbl&gt; | 95 &lt;chr&gt; | 0...5 &lt;dbl&gt; | ?...6 &lt;chr&gt; | 0...7 &lt;chr&gt; | 127 &lt;chr&gt; | 0...9 &lt;chr&gt; | .7 &lt;chr&gt; | 1...11 &lt;chr&gt; | ?...12 &lt;chr&gt; | ?...13 &lt;chr&gt; | 1...14 &lt;dbl&gt; |\n",
       "|---|---|---|---|---|---|---|---|---|---|---|---|---|---|\n",
       "| 34 | 1 | 4 | 115 | 0 | ? | ? | 154 | 0 | .2 | 1 | ? | ? | 1 |\n",
       "| 35 | 1 | 4 | ?   | 0 | ? | 0 | 130 | 1 | ?  | ? | ? | 7 | 3 |\n",
       "| 36 | 1 | 4 | 110 | 0 | ? | 0 | 125 | 1 | 1  | 2 | ? | 6 | 1 |\n",
       "| ⋮ | ⋮ | ⋮ | ⋮ | ⋮ | ⋮ | ⋮ | ⋮ | ⋮ | ⋮ | ⋮ | ⋮ | ⋮ | ⋮ |\n",
       "| 72 | 1 | 3 | 160 | 0 | ? | 2 | 114 | 0 | 1.6 | 2 | 2 | ? | 0 |\n",
       "| 73 | 0 | 3 | 160 | 0 | 0 | 1 | 121 | 0 | 0   | 1 | ? | 3 | 1 |\n",
       "| 74 | 1 | 2 | 145 | 0 | ? | 1 | 123 | 0 | 1.3 | 1 | ? | ? | 1 |\n",
       "\n"
      ],
      "text/plain": [
       "    32 1...2 1...3 95  0...5 ?...6 0...7 127 0...9 .7  1...11 ?...12 ?...13\n",
       "1   34 1     4     115 0     ?     ?     154 0     .2  1      ?      ?     \n",
       "2   35 1     4     ?   0     ?     0     130 1     ?   ?      ?      7     \n",
       "3   36 1     4     110 0     ?     0     125 1     1   2      ?      6     \n",
       "⋮   ⋮  ⋮     ⋮     ⋮   ⋮     ⋮     ⋮     ⋮   ⋮     ⋮   ⋮      ⋮      ⋮     \n",
       "120 72 1     3     160 0     ?     2     114 0     1.6 2      2      ?     \n",
       "121 73 0     3     160 0     0     1     121 0     0   1      ?      3     \n",
       "122 74 1     2     145 0     ?     1     123 0     1.3 1      ?      ?     \n",
       "    1...14\n",
       "1   1     \n",
       "2   3     \n",
       "3   1     \n",
       "⋮   ⋮     \n",
       "120 0     \n",
       "121 1     \n",
       "122 1     "
      ]
     },
     "metadata": {},
     "output_type": "display_data"
    }
   ],
   "source": [
    "url_1 <- \"https://archive.ics.uci.edu/ml/machine-learning-databases/heart-disease/processed.switzerland.data\"\n",
    "switzerland_data <- read_csv(url_1)\n",
    "switzerland_data"
   ]
  },
  {
   "cell_type": "code",
   "execution_count": 7,
   "id": "8a1467da-6d96-414f-87eb-0e0d504d2f76",
   "metadata": {},
   "outputs": [
    {
     "name": "stderr",
     "output_type": "stream",
     "text": [
      "\u001b[1m\u001b[22mNew names:\n",
      "\u001b[36m•\u001b[39m `2` -> `2...3`\n",
      "\u001b[36m•\u001b[39m `0` -> `0...6`\n",
      "\u001b[36m•\u001b[39m `2` -> `2...7`\n",
      "\u001b[36m•\u001b[39m `0` -> `0...9`\n",
      "\u001b[36m•\u001b[39m `0` -> `0...10`\n",
      "\u001b[36m•\u001b[39m `?` -> `?...11`\n",
      "\u001b[36m•\u001b[39m `?` -> `?...12`\n",
      "\u001b[36m•\u001b[39m `?` -> `?...13`\n",
      "\u001b[36m•\u001b[39m `0` -> `0...14`\n",
      "\u001b[1mRows: \u001b[22m\u001b[34m293\u001b[39m \u001b[1mColumns: \u001b[22m\u001b[34m14\u001b[39m\n",
      "\u001b[36m──\u001b[39m \u001b[1mColumn specification\u001b[22m \u001b[36m────────────────────────────────────────────────────────\u001b[39m\n",
      "\u001b[1mDelimiter:\u001b[22m \",\"\n",
      "\u001b[31mchr\u001b[39m (9): 130, 132, 0...6, 2...7, 185, 0...9, ?...11, ?...12, ?...13\n",
      "\u001b[32mdbl\u001b[39m (5): 28, 1, 2...3, 0...10, 0...14\n",
      "\n",
      "\u001b[36mℹ\u001b[39m Use `spec()` to retrieve the full column specification for this data.\n",
      "\u001b[36mℹ\u001b[39m Specify the column types or set `show_col_types = FALSE` to quiet this message.\n"
     ]
    },
    {
     "data": {
      "text/html": [
       "<table class=\"dataframe\">\n",
       "<caption>A spec_tbl_df: 293 × 14</caption>\n",
       "<thead>\n",
       "\t<tr><th scope=col>28</th><th scope=col>1</th><th scope=col>2...3</th><th scope=col>130</th><th scope=col>132</th><th scope=col>0...6</th><th scope=col>2...7</th><th scope=col>185</th><th scope=col>0...9</th><th scope=col>0...10</th><th scope=col>?...11</th><th scope=col>?...12</th><th scope=col>?...13</th><th scope=col>0...14</th></tr>\n",
       "\t<tr><th scope=col>&lt;dbl&gt;</th><th scope=col>&lt;dbl&gt;</th><th scope=col>&lt;dbl&gt;</th><th scope=col>&lt;chr&gt;</th><th scope=col>&lt;chr&gt;</th><th scope=col>&lt;chr&gt;</th><th scope=col>&lt;chr&gt;</th><th scope=col>&lt;chr&gt;</th><th scope=col>&lt;chr&gt;</th><th scope=col>&lt;dbl&gt;</th><th scope=col>&lt;chr&gt;</th><th scope=col>&lt;chr&gt;</th><th scope=col>&lt;chr&gt;</th><th scope=col>&lt;dbl&gt;</th></tr>\n",
       "</thead>\n",
       "<tbody>\n",
       "\t<tr><td>29</td><td>1</td><td>2</td><td>120</td><td>243</td><td>0</td><td>0</td><td>160</td><td>0</td><td>0</td><td>?</td><td>?</td><td>?</td><td>0</td></tr>\n",
       "\t<tr><td>29</td><td>1</td><td>2</td><td>140</td><td>?  </td><td>0</td><td>0</td><td>170</td><td>0</td><td>0</td><td>?</td><td>?</td><td>?</td><td>0</td></tr>\n",
       "\t<tr><td>30</td><td>0</td><td>1</td><td>170</td><td>237</td><td>0</td><td>1</td><td>170</td><td>0</td><td>0</td><td>?</td><td>?</td><td>6</td><td>0</td></tr>\n",
       "\t<tr><td>⋮</td><td>⋮</td><td>⋮</td><td>⋮</td><td>⋮</td><td>⋮</td><td>⋮</td><td>⋮</td><td>⋮</td><td>⋮</td><td>⋮</td><td>⋮</td><td>⋮</td><td>⋮</td></tr>\n",
       "\t<tr><td>56</td><td>1</td><td>4</td><td>155</td><td>342</td><td>1</td><td>0</td><td>150</td><td>1</td><td>3</td><td>2</td><td>?</td><td>?</td><td>1</td></tr>\n",
       "\t<tr><td>58</td><td>0</td><td>2</td><td>180</td><td>393</td><td>0</td><td>0</td><td>110</td><td>1</td><td>1</td><td>2</td><td>?</td><td>7</td><td>1</td></tr>\n",
       "\t<tr><td>65</td><td>1</td><td>4</td><td>130</td><td>275</td><td>0</td><td>1</td><td>115</td><td>1</td><td>1</td><td>2</td><td>?</td><td>?</td><td>1</td></tr>\n",
       "</tbody>\n",
       "</table>\n"
      ],
      "text/latex": [
       "A spec\\_tbl\\_df: 293 × 14\n",
       "\\begin{tabular}{llllllllllllll}\n",
       " 28 & 1 & 2...3 & 130 & 132 & 0...6 & 2...7 & 185 & 0...9 & 0...10 & ?...11 & ?...12 & ?...13 & 0...14\\\\\n",
       " <dbl> & <dbl> & <dbl> & <chr> & <chr> & <chr> & <chr> & <chr> & <chr> & <dbl> & <chr> & <chr> & <chr> & <dbl>\\\\\n",
       "\\hline\n",
       "\t 29 & 1 & 2 & 120 & 243 & 0 & 0 & 160 & 0 & 0 & ? & ? & ? & 0\\\\\n",
       "\t 29 & 1 & 2 & 140 & ?   & 0 & 0 & 170 & 0 & 0 & ? & ? & ? & 0\\\\\n",
       "\t 30 & 0 & 1 & 170 & 237 & 0 & 1 & 170 & 0 & 0 & ? & ? & 6 & 0\\\\\n",
       "\t ⋮ & ⋮ & ⋮ & ⋮ & ⋮ & ⋮ & ⋮ & ⋮ & ⋮ & ⋮ & ⋮ & ⋮ & ⋮ & ⋮\\\\\n",
       "\t 56 & 1 & 4 & 155 & 342 & 1 & 0 & 150 & 1 & 3 & 2 & ? & ? & 1\\\\\n",
       "\t 58 & 0 & 2 & 180 & 393 & 0 & 0 & 110 & 1 & 1 & 2 & ? & 7 & 1\\\\\n",
       "\t 65 & 1 & 4 & 130 & 275 & 0 & 1 & 115 & 1 & 1 & 2 & ? & ? & 1\\\\\n",
       "\\end{tabular}\n"
      ],
      "text/markdown": [
       "\n",
       "A spec_tbl_df: 293 × 14\n",
       "\n",
       "| 28 &lt;dbl&gt; | 1 &lt;dbl&gt; | 2...3 &lt;dbl&gt; | 130 &lt;chr&gt; | 132 &lt;chr&gt; | 0...6 &lt;chr&gt; | 2...7 &lt;chr&gt; | 185 &lt;chr&gt; | 0...9 &lt;chr&gt; | 0...10 &lt;dbl&gt; | ?...11 &lt;chr&gt; | ?...12 &lt;chr&gt; | ?...13 &lt;chr&gt; | 0...14 &lt;dbl&gt; |\n",
       "|---|---|---|---|---|---|---|---|---|---|---|---|---|---|\n",
       "| 29 | 1 | 2 | 120 | 243 | 0 | 0 | 160 | 0 | 0 | ? | ? | ? | 0 |\n",
       "| 29 | 1 | 2 | 140 | ?   | 0 | 0 | 170 | 0 | 0 | ? | ? | ? | 0 |\n",
       "| 30 | 0 | 1 | 170 | 237 | 0 | 1 | 170 | 0 | 0 | ? | ? | 6 | 0 |\n",
       "| ⋮ | ⋮ | ⋮ | ⋮ | ⋮ | ⋮ | ⋮ | ⋮ | ⋮ | ⋮ | ⋮ | ⋮ | ⋮ | ⋮ |\n",
       "| 56 | 1 | 4 | 155 | 342 | 1 | 0 | 150 | 1 | 3 | 2 | ? | ? | 1 |\n",
       "| 58 | 0 | 2 | 180 | 393 | 0 | 0 | 110 | 1 | 1 | 2 | ? | 7 | 1 |\n",
       "| 65 | 1 | 4 | 130 | 275 | 0 | 1 | 115 | 1 | 1 | 2 | ? | ? | 1 |\n",
       "\n"
      ],
      "text/plain": [
       "    28 1 2...3 130 132 0...6 2...7 185 0...9 0...10 ?...11 ?...12 ?...13 0...14\n",
       "1   29 1 2     120 243 0     0     160 0     0      ?      ?      ?      0     \n",
       "2   29 1 2     140 ?   0     0     170 0     0      ?      ?      ?      0     \n",
       "3   30 0 1     170 237 0     1     170 0     0      ?      ?      6      0     \n",
       "⋮   ⋮  ⋮ ⋮     ⋮   ⋮   ⋮     ⋮     ⋮   ⋮     ⋮      ⋮      ⋮      ⋮      ⋮     \n",
       "291 56 1 4     155 342 1     0     150 1     3      2      ?      ?      1     \n",
       "292 58 0 2     180 393 0     0     110 1     1      2      ?      7      1     \n",
       "293 65 1 4     130 275 0     1     115 1     1      2      ?      ?      1     "
      ]
     },
     "metadata": {},
     "output_type": "display_data"
    }
   ],
   "source": [
    "url_3 <- \"https://archive.ics.uci.edu/ml/machine-learning-databases/heart-disease/processed.hungarian.data\"\n",
    "data <- read_delim(url_3, delim = \",\")\n",
    "data"
   ]
  },
  {
   "cell_type": "markdown",
   "id": "5fbdcb63-b885-4b65-a2a8-e1c6a133afb6",
   "metadata": {},
   "source": [
    "- age\n",
    "- sex\n",
    "- chest pain type(Value 1: typical angina, Value 2: atypical angina, Value 3: non-anginal pain, Value 4: asymptomatic)\n",
    "- resting blood pressure\n",
    "- serum cholestoral in mg/dl\n",
    "- fasting blood sugar > 120 mg/dl:\n",
    "    - 1 = true\n",
    "    - 0 = false\n",
    "- resting electrocardiographic results: \n",
    "    - 0: normal\n",
    "    - 1: having ST-T wave abnormality (T wave inversions and/or ST elevation or depression of > 0.05 mV)\n",
    "    - 2: showing probable or definite left ventricular hypertrophy by Estes' criteria\n",
    "- maximum heart rate achieved\n",
    "- exercise induced angina:\n",
    "    - 1 = yes\n",
    "    - 0 = no\n",
    "- ST depression induced by exercise relative to rest\n",
    "- the slope of the peak exercise ST segment: \n",
    "    - 1: upsloping\n",
    "    - 2: flat\n",
    "    - 3: downsloping\n",
    "- number of major vessels (0-3) colored by flourosopy\n",
    "- 3 = normal; 6 = fixed defect; 7 = reversable defect\n",
    "- diagnosis of heart disease (angiographic disease status)：\n",
    "    - 0: < 50% diameter narrowing\n",
    "    - 1: > 50% diameter narrowing"
   ]
  },
  {
   "cell_type": "markdown",
   "id": "9335aced-307c-4e0a-ae9e-68bbb16c3775",
   "metadata": {},
   "source": [
    "Method:"
   ]
  },
  {
   "cell_type": "markdown",
   "id": "52991241-f213-4b78-8ea9-090e1989336a",
   "metadata": {},
   "source": [
    "Expected outcomes and significance:\n",
    "- expect to find\n",
    "- impact\n",
    "- future questions"
   ]
  },
  {
   "cell_type": "code",
   "execution_count": null,
   "id": "89a24417-b9f2-4880-ba72-2ff64d9667ac",
   "metadata": {},
   "outputs": [],
   "source": []
  }
 ],
 "metadata": {
  "kernelspec": {
   "display_name": "R",
   "language": "R",
   "name": "ir"
  },
  "language_info": {
   "codemirror_mode": "r",
   "file_extension": ".r",
   "mimetype": "text/x-r-source",
   "name": "R",
   "pygments_lexer": "r",
   "version": "4.1.3"
  }
 },
 "nbformat": 4,
 "nbformat_minor": 5
}
